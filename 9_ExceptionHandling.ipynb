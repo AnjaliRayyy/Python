{
 "cells": [
  {
   "cell_type": "code",
   "execution_count": 3,
   "id": "6f83c86a",
   "metadata": {},
   "outputs": [
    {
     "name": "stdout",
     "output_type": "stream",
     "text": [
      "Time:  12 : 30 : 00\n"
     ]
    }
   ],
   "source": [
    "#Write a function to read a Time class object storing hours and minutes. Raise a user-defined error if values other than 0...23 is entered for hours and other than 0...59 is entered for minutes.\n",
    "class InvalidHourValue(Exception):\n",
    "    pass\n",
    "class InvalidMinutesValue(Exception):\n",
    "    pass\n",
    "def readTime(hrs,mins):\n",
    "    try:\n",
    "        if hrs>23:\n",
    "            raise InvalidHourValue(f\"{hrs}>23 is not valid for hours!!!\")\n",
    "        if mins>59:\n",
    "            raise InvalidMinutesValue(f\"{mins}>59 is not valid for minutes!!!\")\n",
    "        print(\"Time: \",hrs,\":\",mins,\": 00\")\n",
    "    except InvalidHourValue as e1:\n",
    "        print(\"Error raised :\",e1)\n",
    "    except InvalidMinutesValue as e2:\n",
    "        print(\"Error raised :\",e2)\n",
    "\n",
    "hrs=int(input(\"Enter the hours : \"))\n",
    "mins=int(input(\"Enter the mins : \"))\n",
    "readTime(hrs,mins)"
   ]
  },
  {
   "cell_type": "code",
   "execution_count": 8,
   "id": "75f68070",
   "metadata": {},
   "outputs": [
    {
     "name": "stdout",
     "output_type": "stream",
     "text": [
      "Error message :  [Errno 2] No such file or directory: 'Sample.txt'\n"
     ]
    }
   ],
   "source": [
    "# WAP to read a file and throw an error if the file is not found\n",
    "try:\n",
    "    f=open(\"Sample.txt\",'r')\n",
    "    print(f.read())\n",
    "except FileNotFoundError as e:\n",
    "    print(\"Error message : \",str(e))"
   ]
  }
 ],
 "metadata": {
  "kernelspec": {
   "display_name": "Python 3",
   "language": "python",
   "name": "python3"
  },
  "language_info": {
   "codemirror_mode": {
    "name": "ipython",
    "version": 3
   },
   "file_extension": ".py",
   "mimetype": "text/x-python",
   "name": "python",
   "nbconvert_exporter": "python",
   "pygments_lexer": "ipython3",
   "version": "3.11.9"
  }
 },
 "nbformat": 4,
 "nbformat_minor": 5
}
