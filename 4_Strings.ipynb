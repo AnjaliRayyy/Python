{
 "cells": [
  {
   "cell_type": "code",
   "execution_count": null,
   "id": "03a8a5d1",
   "metadata": {},
   "outputs": [],
   "source": [
    "# Forward and Backward String traversal\n",
    "s=input(\"Enter the string : \")\n",
    "print(\"Forward\\tBackward\")\n",
    "for i in range(0,len(s),1):\n",
    "    print(s[i],\"\\t\",s[-(i+1)])"
   ]
  },
  {
   "cell_type": "code",
   "execution_count": null,
   "id": "af613384",
   "metadata": {},
   "outputs": [],
   "source": [
    "# Pattern without nested loops\n",
    "n=int(input(\"Enter the number of terms : \"))\n",
    "pattern=\"#\"\n",
    "for i in range(1,n+1):\n",
    "    print(pattern*i)"
   ]
  },
  {
   "cell_type": "code",
   "execution_count": null,
   "id": "ffd50ff7",
   "metadata": {},
   "outputs": [],
   "source": [
    "# Palindrome String\n",
    "s=input(\"Enter a string : \")\n",
    "s_rev=s[::-1]\n",
    "if s==s_rev:\n",
    "    print(\"Palindrome String\")\n",
    "else:\n",
    "    print(\"Not a Palindrome String\")"
   ]
  },
  {
   "cell_type": "code",
   "execution_count": null,
   "id": "bc063e4c",
   "metadata": {},
   "outputs": [],
   "source": [
    "# Wratie a program to input two strings. If string1 is contained in string2 then create a third string with first four characters of string2 added with word 'Restore'\n",
    "s1=input(\"Enter the first string: \")\n",
    "s2=input(\"Enter the second string : \")\n",
    "if s1 in s2:\n",
    "    s3=s2[:4]+'Restore'\n",
    "    print(s3)\n",
    "else:\n",
    "    print(\"s1 is not contained in s2\")\n"
   ]
  },
  {
   "cell_type": "code",
   "execution_count": null,
   "id": "62a748fa",
   "metadata": {},
   "outputs": [],
   "source": [
    "# Wap that reads a string and displays the longest substring of the given string having just the consonants\n",
    "s=input(\"Enter the string : \")\n",
    "longestSubStr=\"\"\n",
    "currentSubStr=\"\"\n",
    "for i in range(len(s)):\n",
    "    if s[i] in 'aeiou' or s[i] in 'AEIOU':\n",
    "        if len(currentSubStr)>len(longestSubStr):\n",
    "            longestSubStr=currentSubStr  \n",
    "        currentSubStr=\"\"\n",
    "    else:\n",
    "        currentSubStr+=s[i]\n",
    "print(\"Longest Consonant Substring =\",longestSubStr)\n",
    "        "
   ]
  },
  {
   "cell_type": "code",
   "execution_count": null,
   "id": "5feef4f8",
   "metadata": {},
   "outputs": [],
   "source": [
    "# WAP to read an email id and ensure that it belongs to the domain @edupillar.com\n",
    "email=input(\"Enter the email id : \")\n",
    "domain=\"@edupillar.com\"\n",
    "ledo=len(domain)    #length of domain\n",
    "lema=len(email)     #length of email\n",
    "sub=email[lema-ledo:]\n",
    "if sub==domain:\n",
    "    print(\"Email belongs to @edupillar.com\")\n",
    "else:\n",
    "    print(\"Email does not belong to @edupillar.com\")"
   ]
  },
  {
   "cell_type": "code",
   "execution_count": null,
   "id": "7571038c",
   "metadata": {},
   "outputs": [],
   "source": [
    "# WAP to read an email id and ensure that it belongs to the domain @edupillar.com (Approach 2)\n",
    "email=input(\"Enter the email id : \")\n",
    "part_list=email.partition('@')\n",
    "if part_list[2]==\"edupillar.com\":\n",
    "    print(\"Email belongs to @edupillar.com\")\n",
    "else:\n",
    "    print(\"Email does not belong to @edupillar.com\")"
   ]
  },
  {
   "cell_type": "code",
   "execution_count": null,
   "id": "c91f6550",
   "metadata": {},
   "outputs": [],
   "source": [
    "# Check if two strings are anagrams or not \n",
    "# An anagram is a word or phrase formed by rearranging the letters of another word or phrase — using all the original letters exactly once. Example : (listen,silent), (race,care)\n",
    "s1=input(\"Enter the first string: \")\n",
    "s2=input(\"Enter the second string: \")\n",
    "if sorted(s1.replace(\" \",\"\").lower())==sorted(s2.replace(\" \",\"\").lower()):\n",
    "    print(\"Anagram\")\n",
    "else:\n",
    "    print(\"Non Anagram\")\n"
   ]
  },
  {
   "cell_type": "code",
   "execution_count": null,
   "id": "4450ba71",
   "metadata": {},
   "outputs": [],
   "source": [
    "# Find the first non-repeating character in a string\n",
    "# Input: \"aabbcddee\"\n",
    "# Output: \"c\"\n",
    "s=input(\"Enter the string : \")\n",
    "for ch in s:\n",
    "    if s.count(ch)==1:\n",
    "        print(ch)\n",
    "        break\n",
    "else:    \n",
    "    print(\"No such character found\")"
   ]
  },
  {
   "cell_type": "code",
   "execution_count": null,
   "id": "345ab8dd",
   "metadata": {},
   "outputs": [],
   "source": [
    "# Count frequency of each character\n",
    "# Input: \"hello world\"\n",
    "# Output: {'h':1, 'e':1, 'l':3, 'o':2, 'w':1, 'r':1, 'd':1}\n",
    "s=input(\"Enter the string : \")\n",
    "s=s.lower().replace(\" \",\"\")\n",
    "freq={}\n",
    "for ch in s:\n",
    "    if ch in freq:\n",
    "        pass\n",
    "    else:\n",
    "        freq[ch]=s.count(ch)\n",
    "print(freq)"
   ]
  },
  {
   "cell_type": "code",
   "execution_count": null,
   "id": "128a702c",
   "metadata": {},
   "outputs": [],
   "source": [
    "# Reverse the order of words in a sentence\n",
    "# Input: \"I love Python\"\n",
    "# Output: \"Python love I\"\n",
    "s=input(\"Enter the string: \")\n",
    "revStr=\"\"\n",
    "words=s.split()\n",
    "for x in range(0,len(words)): \n",
    "    revStr=words[x]+\" \"+revStr\n",
    "print(revStr)"
   ]
  },
  {
   "cell_type": "code",
   "execution_count": null,
   "id": "1e823402",
   "metadata": {},
   "outputs": [],
   "source": [
    "# Check if a string is Pangram\n",
    "s=input(\"Enter the string : \")\n",
    "s=s.lower().replace(\" \",\"\")\n",
    "alphabet=\"abcdefghijklmnopqrstuvwxyz\"\n",
    "for ch in alphabet:\n",
    "    if s.count(ch) == 0:\n",
    "        print(\"Not a Pangram string\")\n",
    "        break\n",
    "else:\n",
    "    print(\"Pangram String\")"
   ]
  },
  {
   "cell_type": "code",
   "execution_count": null,
   "id": "08dbb647",
   "metadata": {},
   "outputs": [],
   "source": [
    "# Find the longest common prefix in a list of strings\n",
    "# Input: [\"flower\",\"flow\",\"flight\"]\n",
    "# Output: \"fl\"\n",
    "myList=input(\"Enter the words separated by space : \").split()\n",
    "prefix=myList[0]\n",
    "for x in range(1,len(myList)):\n",
    "    if myList[x].startswith(prefix):\n",
    "        continue\n",
    "    else:\n",
    "        # temp=\"\"\n",
    "        # for ch in myList[x]:\n",
    "        #     if prefix.startswith(temp+ch):\n",
    "        #         temp+=ch\n",
    "        # prefix=temp\n",
    "        while(not myList[x].startswith(prefix)):\n",
    "            prefix=prefix[:-1]\n",
    "print(prefix)\n",
    "        \n"
   ]
  },
  {
   "cell_type": "code",
   "execution_count": 65,
   "id": "19d67bd8",
   "metadata": {},
   "outputs": [
    {
     "name": "stdout",
     "output_type": "stream",
     "text": [
      "[['Eat', 'tea', 'Ate'], ['Tan', 'nat'], ['Bat']]\n"
     ]
    }
   ],
   "source": [
    "# Group all anagrams from a list of words\n",
    "# Input: [\"eat\", \"tea\", \"tan\", \"ate\", \"nat\", \"bat\"]\n",
    "# Output: [[\"eat\",\"tea\",\"ate\"], [\"tan\",\"nat\"], [\"bat\"]]\n",
    "myList=input(\"Enter the words separated by spaces : \").split()\n",
    "anagramList=[]\n",
    "for x in myList:\n",
    "    for y in anagramList:\n",
    "        if sorted(x.lower())==sorted(y[0].lower()):\n",
    "            y.append(x)\n",
    "            break\n",
    "    else:\n",
    "        anagramList.append([x])\n",
    "print(anagramList)\n",
    "        "
   ]
  }
 ],
 "metadata": {
  "kernelspec": {
   "display_name": "Python 3",
   "language": "python",
   "name": "python3"
  },
  "language_info": {
   "codemirror_mode": {
    "name": "ipython",
    "version": 3
   },
   "file_extension": ".py",
   "mimetype": "text/x-python",
   "name": "python",
   "nbconvert_exporter": "python",
   "pygments_lexer": "ipython3",
   "version": "3.11.9"
  }
 },
 "nbformat": 4,
 "nbformat_minor": 5
}
