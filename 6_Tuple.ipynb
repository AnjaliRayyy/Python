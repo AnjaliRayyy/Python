{
 "cells": [
  {
   "cell_type": "code",
   "execution_count": 8,
   "id": "7a3a5eae",
   "metadata": {},
   "outputs": [
    {
     "name": "stdout",
     "output_type": "stream",
     "text": [
      "('abc@xyz.net', '123@school.net', 'anjali@gmail.com', 'manu@hotmail.com')\n",
      "('abc', '123', 'anjali', 'manu')\n",
      "('xyz.net', 'school.net', 'gmail.com', 'hotmail.com')\n"
     ]
    }
   ],
   "source": [
    "#WAP to input email ids of n students and store themin a tuple. Create two new ruples one to store only the usernames from the emails IDs and second to store domain names form the ids. Print all three tuples at the end of the program.\n",
    "#T1=tuple(input(\"Enter the email ids separated by space : \").split())\n",
    "T1=(\"abc@xyz.net\",\"123@school.net\",\"anjali@gmail.com\",\"manu@hotmail.com\")\n",
    "names=[0]*len(T1)\n",
    "domains=[0]*len(T1)\n",
    "for i in range(0,len(T1)):\n",
    "    names[i],domains[i]=T1[i].split('@')\n",
    "T2=tuple(names)\n",
    "T3=tuple(domains)\n",
    "del names\n",
    "del domains\n",
    "print(T1)\n",
    "print(T2)\n",
    "print(T3)\n"
   ]
  },
  {
   "cell_type": "code",
   "execution_count": 10,
   "id": "93998132",
   "metadata": {},
   "outputs": [
    {
     "name": "stdout",
     "output_type": "stream",
     "text": [
      "Shortest string : red\n",
      "Length of shortest string : 3\n"
     ]
    }
   ],
   "source": [
    "# Return the length of shortest string\n",
    "T1=eval(input(\"Enter a tuple containing strings: \"))\n",
    "lenShortest=1000\n",
    "n=0\n",
    "for x in range(0,len(T1)):\n",
    "    if len(T1[x])<lenShortest:\n",
    "        lenShortest=len(T1[x])\n",
    "        n=x\n",
    "print(\"Shortest string :\",T1[n])\n",
    "print(\"Length of shortest string :\",lenShortest)\n"
   ]
  },
  {
   "cell_type": "code",
   "execution_count": 11,
   "id": "61e9040b",
   "metadata": {},
   "outputs": [
    {
     "name": "stdout",
     "output_type": "stream",
     "text": [
      "Mode = 4\n"
     ]
    }
   ],
   "source": [
    "#Write a program to check the mode of a tuple.\n",
    "T=eval(input(\"Enter the tuple : \"))\n",
    "max=0\n",
    "element=''\n",
    "for x in T:\n",
    "    if T.count(x)>max:\n",
    "        max=T.count(x)\n",
    "        element=x\n",
    "print(\"Mode =\",element)"
   ]
  },
  {
   "cell_type": "code",
   "execution_count": null,
   "id": "e2858ee0",
   "metadata": {},
   "outputs": [],
   "source": []
  },
  {
   "cell_type": "code",
   "execution_count": null,
   "id": "357c74bb",
   "metadata": {},
   "outputs": [],
   "source": []
  }
 ],
 "metadata": {
  "kernelspec": {
   "display_name": "Python 3",
   "language": "python",
   "name": "python3"
  },
  "language_info": {
   "codemirror_mode": {
    "name": "ipython",
    "version": 3
   },
   "file_extension": ".py",
   "mimetype": "text/x-python",
   "name": "python",
   "nbconvert_exporter": "python",
   "pygments_lexer": "ipython3",
   "version": "3.11.9"
  }
 },
 "nbformat": 4,
 "nbformat_minor": 5
}
