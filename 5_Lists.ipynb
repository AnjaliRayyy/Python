{
 "cells": [
  {
   "cell_type": "code",
   "execution_count": null,
   "id": "75f70c67",
   "metadata": {},
   "outputs": [],
   "source": [
    "# Find the second largest number from a list of numbers\n",
    "L1=eval(input(\"Enter the list : \"))\n",
    "largest=larger=0\n",
    "for x in L1:\n",
    "    if x>largest:\n",
    "        larger=largest\n",
    "        largest=x\n",
    "    elif x>larger:\n",
    "        larger=x\n",
    "print(larger)\n"
   ]
  },
  {
   "cell_type": "code",
   "execution_count": null,
   "id": "f7c4ea29",
   "metadata": {},
   "outputs": [],
   "source": [
    "# Remove all occurances of a given element from the list\n",
    "L1=eval(input(\"Enter the list : \"))\n",
    "element=int(input(\"Enter the element : \"))\n",
    "c=L1.count(element)\n",
    "if c==0:\n",
    "    print(\"Item not found in the list\")\n",
    "else:\n",
    "    while c>0:\n",
    "        pos=L1.index(element)\n",
    "        L1.pop(pos)\n",
    "        c=c-1\n",
    "print(\"Resulting List=\",L1)"
   ]
  },
  {
   "cell_type": "code",
   "execution_count": null,
   "id": "2414de39",
   "metadata": {},
   "outputs": [],
   "source": [
    "# WAP to shift all the zeros to right and all non-zero elements to the left of the list\n",
    "L=eval(input(\"Enter the list : \"))\n",
    "pos=0\n",
    "for x in range(0,len(L)):\n",
    "   if L[x]!=0:\n",
    "      L[pos]=L[x]\n",
    "      pos+=1\n",
    "for x in range(pos,len(L)):\n",
    "   L[x]=0\n",
    "print(L)"
   ]
  },
  {
   "cell_type": "code",
   "execution_count": null,
   "id": "0d2de4d2",
   "metadata": {},
   "outputs": [],
   "source": [
    "# WAP to move all duplicate elements in a list to the end of the list\n",
    "L=[1,2,2,3,4,5,5,6,7,7,9,2,5]\n",
    "D={}\n",
    "for x in L:\n",
    "    if x in D:\n",
    "        D[x]+=1\n",
    "    else:\n",
    "        D[x]=1\n",
    "L.clear()\n",
    "for x in D:\n",
    "    if D[x]==1:\n",
    "        L.append(x)\n",
    "for x in D:\n",
    "    if D[x]!=1:\n",
    "        for i in range(0,D[x]):\n",
    "            L.append(x)\n",
    "print(L)\n"
   ]
  },
  {
   "cell_type": "code",
   "execution_count": null,
   "id": "afdc8b9c",
   "metadata": {},
   "outputs": [],
   "source": [
    "# Find the missing number in a list containing 1 to n\n",
    "L=[1,2,3,5,6,7,8,9]\n",
    "n=L[-1]\n",
    "missingNum=int(n*(n+1)/2 - sum(L))\n",
    "print(missingNum)"
   ]
  },
  {
   "cell_type": "code",
   "execution_count": null,
   "id": "8a5956d0",
   "metadata": {},
   "outputs": [],
   "source": [
    "# Check if a list is monotonic\n",
    "# Monotonic means entirely non-increasing or non-decreasing.\n",
    "L=eval(input(\"Enter the list : \"))\n",
    "if(L==sorted(L)):\n",
    "    print(\"Monotonic(increasing)\")\n",
    "elif (L==sorted(L,reverse=True)):\n",
    "    print(\"Monotonic(decreasing)\")\n",
    "else:\n",
    "    print(\"Non Monotonic\")"
   ]
  },
  {
   "cell_type": "code",
   "execution_count": 32,
   "id": "bb1741cf",
   "metadata": {},
   "outputs": [
    {
     "name": "stdout",
     "output_type": "stream",
     "text": [
      "2\n"
     ]
    }
   ],
   "source": [
    "# Smallest missing positive integer\n",
    "nums=[3,4,-1,1]\n",
    "#Preprocessing the list\n",
    "for x in range(0,len(nums)):\n",
    "    if nums[x]<=0 or nums[x]>len(nums):\n",
    "        nums[x]=len(nums)+1\n",
    "#In place marking\n",
    "for x in range(0,len(nums)):\n",
    "    if abs(nums[x])==len(nums)+1:\n",
    "        continue\n",
    "    pos=abs(nums[x])-1\n",
    "    if nums[pos]<0:\n",
    "        continue\n",
    "    else:\n",
    "        nums[pos]=-nums[pos]\n",
    "#Finding the first positive index\n",
    "for x in range(0,len(nums)):\n",
    "    if(nums[x]>0):\n",
    "        print(x+1)\n",
    "        break\n",
    "else:        \n",
    "    print(len(nums)+1)"
   ]
  },
  {
   "cell_type": "code",
   "execution_count": 34,
   "id": "6f6a1f69",
   "metadata": {},
   "outputs": [
    {
     "name": "stdout",
     "output_type": "stream",
     "text": [
      "[2, 1, 4, 3, 6, 5]\n"
     ]
    }
   ],
   "source": [
    "# WAP to swap even locations with odd locations\n",
    "L=eval(input(\"Enter the list : \"))\n",
    "for i in range(0,len(L),2):\n",
    "    if i+1<len(L):\n",
    "        L[i],L[i+1]=L[i+1],L[i]\n",
    "print(L)"
   ]
  }
 ],
 "metadata": {
  "kernelspec": {
   "display_name": "Python 3",
   "language": "python",
   "name": "python3"
  },
  "language_info": {
   "codemirror_mode": {
    "name": "ipython",
    "version": 3
   },
   "file_extension": ".py",
   "mimetype": "text/x-python",
   "name": "python",
   "nbconvert_exporter": "python",
   "pygments_lexer": "ipython3",
   "version": "3.11.9"
  }
 },
 "nbformat": 4,
 "nbformat_minor": 5
}
