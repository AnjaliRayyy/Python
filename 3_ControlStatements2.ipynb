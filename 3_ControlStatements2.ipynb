{
 "cells": [
  {
   "cell_type": "code",
   "execution_count": null,
   "id": "4b32606f",
   "metadata": {},
   "outputs": [],
   "source": [
    "# Input a 6-digit number and divide it into three 2-digit numbers\n",
    "n=int(input(\"Enter a 6-digit number : \"))\n",
    "if(n<100000 or n>999999):\n",
    "    print(\"Please enter a 6-digit number\")\n",
    "else:\n",
    "    n1=n//10000\n",
    "    n2=(n//100)%100\n",
    "    n3=n%100\n",
    "    print(\"The three parts are :\",n1,n2,n3)\n",
    "\n"
   ]
  },
  {
   "cell_type": "code",
   "execution_count": null,
   "id": "5d8ec239",
   "metadata": {},
   "outputs": [],
   "source": [
    "# Fibonacci Series\n",
    "n=int(input(\"Enter the number of terms : \"))\n",
    "a=0 \n",
    "b=1\n",
    "print(\"The terms are :\",a,b,end=\" \")\n",
    "while(n!=2):\n",
    "    c=a+b\n",
    "    print(c,end=\" \")\n",
    "    a=b\n",
    "    b=c\n",
    "    n=n-1"
   ]
  },
  {
   "cell_type": "code",
   "execution_count": null,
   "id": "475a04ba",
   "metadata": {},
   "outputs": [],
   "source": [
    "# Number Guessing Game\n",
    "import random\n",
    "randomNum=random.randint(1,100)\n",
    "for n in range(5,0,-1):\n",
    "    if(n!=5):\n",
    "        print(\"You have\",n,\"chances left to guess the number!!!\")\n",
    "    num=int(input(\"Guess the number : \"))\n",
    "    if num==randomNum:\n",
    "        print(\"You won!!!\\nThe number was :\",randomNum)\n",
    "        break\n",
    "    elif num<randomNum:\n",
    "        print(\"Too low\")\n",
    "    else:\n",
    "        print(\"Too high\")\n",
    "else:\n",
    "    print(\"You lost!!!\\nThe number was :\",randomNum)\n",
    "    "
   ]
  },
  {
   "cell_type": "code",
   "execution_count": null,
   "id": "b5689021",
   "metadata": {},
   "outputs": [],
   "source": [
    "# Reversing a number\n",
    "n=int(input(\"Enter the number : \"))\n",
    "num=str(n)\n",
    "revnum=\"\"\n",
    "for x in num:\n",
    "    revnum=x+revnum\n",
    "n=int(revnum)\n",
    "print(\"Reversed number is : \",n)"
   ]
  },
  {
   "cell_type": "code",
   "execution_count": null,
   "id": "60939a7e",
   "metadata": {},
   "outputs": [],
   "source": [
    "# Pattern 1:\n",
    "# 1\n",
    "# 1 3\n",
    "# 1 3 5\n",
    "# 1 3 5 7\n",
    "n=int(input(\"Enter the number of rows : \"))\n",
    "for i in range(1,2*n,2):\n",
    "    for j in range(1,i,2):\n",
    "        print(j,end=\" \")\n",
    "    print()\n"
   ]
  },
  {
   "cell_type": "code",
   "execution_count": null,
   "id": "7b3f9396",
   "metadata": {},
   "outputs": [],
   "source": [
    "x=int(input(\"Enter the value of x: \"))\n",
    "n=int(input(\"Enter the value of n: \"))\n",
    "sum=x\n",
    "f=1\n",
    "for i in range(2,n+1):\n",
    "    f*=i\n",
    "    if(i%2==0):\n",
    "        sum+=x**i/f\n",
    "    else:\n",
    "        sum-=x**i/f\n",
    "else:\n",
    "    print(\"Sum =\",sum)"
   ]
  }
 ],
 "metadata": {
  "kernelspec": {
   "display_name": "Python 3",
   "language": "python",
   "name": "python3"
  },
  "language_info": {
   "codemirror_mode": {
    "name": "ipython",
    "version": 3
   },
   "file_extension": ".py",
   "mimetype": "text/x-python",
   "name": "python",
   "nbconvert_exporter": "python",
   "pygments_lexer": "ipython3",
   "version": "3.11.9"
  }
 },
 "nbformat": 4,
 "nbformat_minor": 5
}
