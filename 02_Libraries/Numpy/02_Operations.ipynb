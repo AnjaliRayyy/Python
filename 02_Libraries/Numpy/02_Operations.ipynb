{
 "cells": [
  {
   "cell_type": "code",
   "execution_count": 3,
   "id": "46850d28",
   "metadata": {},
   "outputs": [
    {
     "name": "stdout",
     "output_type": "stream",
     "text": [
      "2.2.6\n"
     ]
    }
   ],
   "source": [
    "import numpy as np\n",
    "print(np.__version__)"
   ]
  },
  {
   "cell_type": "markdown",
   "id": "8156f35c",
   "metadata": {},
   "source": [
    "### Array indexing and slicing"
   ]
  },
  {
   "cell_type": "code",
   "execution_count": 4,
   "id": "7ef1902a",
   "metadata": {},
   "outputs": [
    {
     "name": "stdout",
     "output_type": "stream",
     "text": [
      "Basic Slicing:  [3 4 5 6 7]\n",
      "With Step:  [2 4 6 8]\n",
      "Negative indexing: 9\n"
     ]
    }
   ],
   "source": [
    "arr=np.arange(1,11)\n",
    "print(\"Basic Slicing: \",arr[2:7])\n",
    "print(\"With Step: \",arr[1:8:2])\n",
    "print(\"Negative indexing:\",arr[-2])"
   ]
  },
  {
   "cell_type": "code",
   "execution_count": 5,
   "id": "bd045b73",
   "metadata": {},
   "outputs": [
    {
     "name": "stdout",
     "output_type": "stream",
     "text": [
      "Specific element:  6\n",
      "Entire row:  [4 5 6]\n",
      "Entire column:  [2 5 8]\n"
     ]
    }
   ],
   "source": [
    "arr_2d=np.array([[1,2,3],\n",
    "                 [4,5,6],\n",
    "                 [7,8,9]])\n",
    "print(\"Specific element: \",arr_2d[1,2])\n",
    "print(\"Entire row: \",arr_2d[1])\n",
    "print(\"Entire column: \",arr_2d[:,1])"
   ]
  },
  {
   "cell_type": "markdown",
   "id": "11eadc7f",
   "metadata": {},
   "source": [
    "### Sorting"
   ]
  },
  {
   "cell_type": "code",
   "execution_count": 6,
   "id": "62477e63",
   "metadata": {},
   "outputs": [
    {
     "name": "stdout",
     "output_type": "stream",
     "text": [
      "Sorted Array:  [1 2 3 4 5 6 7 8 9]\n",
      "2D array sorted by column:  [[1 1]\n",
      " [2 2]\n",
      " [3 3]]\n",
      "2D array sorted by row:  [[1 3]\n",
      " [1 2]\n",
      " [2 3]]\n"
     ]
    }
   ],
   "source": [
    "unsorted=np.array([3,6,1,4,2,5,9,8,7])\n",
    "print(\"Sorted Array: \",np.sort(unsorted))\n",
    "\n",
    "unsorted_2d=np.array([[3,1],\n",
    "                      [1,2],\n",
    "                      [2,3]])\n",
    "print(\"2D array sorted by column: \",np.sort(unsorted_2d,axis=0))\n",
    "print(\"2D array sorted by row: \",np.sort(unsorted_2d,axis=1))"
   ]
  },
  {
   "cell_type": "markdown",
   "id": "8fefc44a",
   "metadata": {},
   "source": [
    "### Filter"
   ]
  },
  {
   "cell_type": "code",
   "execution_count": 7,
   "id": "86eb2b1e",
   "metadata": {},
   "outputs": [
    {
     "name": "stdout",
     "output_type": "stream",
     "text": [
      "Even numbers: [ 2  4  6  8 10]\n",
      "Numbers greater than 5: [ 6  7  8  9 10]\n"
     ]
    }
   ],
   "source": [
    "numbers=np.array([1,2,3,4,5,6,7,8,9,10])\n",
    "even_number=numbers[numbers % 2 == 0]\n",
    "print(\"Even numbers:\",even_number)\n",
    "\n",
    "#Filter with mask\n",
    "mask=numbers>5\n",
    "print(\"Numbers greater than 5:\",numbers[mask])"
   ]
  },
  {
   "cell_type": "markdown",
   "id": "0b517fce",
   "metadata": {},
   "source": [
    "### Fancy indexing vs np.where()"
   ]
  },
  {
   "cell_type": "code",
   "execution_count": 8,
   "id": "15d12105",
   "metadata": {},
   "outputs": [
    {
     "name": "stdout",
     "output_type": "stream",
     "text": [
      "[1 3 5]\n",
      "(array([5, 6, 7, 8, 9]),)\n",
      "Np.where():  [ 6  7  8  9 10]\n"
     ]
    }
   ],
   "source": [
    "indices=[0,2,4]\n",
    "print(numbers[indices])\n",
    "\n",
    "where_result=np.where(numbers>5)\n",
    "print(where_result)\n",
    "print(\"Np.where(): \",numbers[where_result])"
   ]
  },
  {
   "cell_type": "code",
   "execution_count": 9,
   "id": "903ad332",
   "metadata": {},
   "outputs": [
    {
     "name": "stdout",
     "output_type": "stream",
     "text": [
      "[ 0  0  0  0  0 12 14 16 18 20]\n"
     ]
    }
   ],
   "source": [
    "condition_array=np.where(numbers>5,numbers*2,0)\n",
    "print(condition_array)"
   ]
  },
  {
   "cell_type": "markdown",
   "id": "9c35b238",
   "metadata": {},
   "source": [
    "### Adding and removing data"
   ]
  },
  {
   "cell_type": "code",
   "execution_count": 10,
   "id": "b15ec476",
   "metadata": {},
   "outputs": [
    {
     "name": "stdout",
     "output_type": "stream",
     "text": [
      "[1 2 3 4 5 6]\n"
     ]
    }
   ],
   "source": [
    "arr1=np.array([1,2,3])\n",
    "arr2=np.array([4,5,6])\n",
    "combined=np.concatenate((arr1,arr2))\n",
    "print(combined)"
   ]
  },
  {
   "cell_type": "code",
   "execution_count": 17,
   "id": "a9824150",
   "metadata": {},
   "outputs": [
    {
     "name": "stdout",
     "output_type": "stream",
     "text": [
      "[[1 2]\n",
      " [3 4]]\n",
      "\n",
      " [[1 2]\n",
      " [3 4]\n",
      " [5 6]]\n",
      "\n",
      " [[1 2 7]\n",
      " [3 4 8]]\n"
     ]
    }
   ],
   "source": [
    "original=np.array([[1,2],[3,4]])\n",
    "new_row=np.array([5,6])\n",
    "with_new_row=np.vstack((original,new_row))\n",
    "print(original)\n",
    "print('\\n',with_new_row)\n",
    "\n",
    "new_col=np.array([[7],[8]])\n",
    "with_new_col=np.hstack((original,new_col))\n",
    "print('\\n',with_new_col)"
   ]
  },
  {
   "cell_type": "code",
   "execution_count": 19,
   "id": "f3b85f4a",
   "metadata": {},
   "outputs": [
    {
     "name": "stdout",
     "output_type": "stream",
     "text": [
      "Array after deletion: [1 2 4 5]\n"
     ]
    }
   ],
   "source": [
    "arr=np.array([1,2,3,4,5])\n",
    "deleted=np.delete(arr,2)\n",
    "print(\"Array after deletion:\",deleted)"
   ]
  },
  {
   "cell_type": "markdown",
   "id": "698419e4",
   "metadata": {},
   "source": [
    "### Array Compatibility"
   ]
  },
  {
   "cell_type": "code",
   "execution_count": 11,
   "id": "cbc33d2e",
   "metadata": {},
   "outputs": [
    {
     "name": "stdout",
     "output_type": "stream",
     "text": [
      "Compatibility of a and b :  True\n",
      "Compatibility of a and c :  False\n"
     ]
    }
   ],
   "source": [
    "a=np.array([1,2,3,4])\n",
    "b=np.array([5,6,7,8])\n",
    "c=np.array([9,10,11])\n",
    "\n",
    "print(\"Compatibility of a and b : \",a.shape==b.shape)\n",
    "print(\"Compatibility of a and c : \",a.shape==c.shape)"
   ]
  }
 ],
 "metadata": {
  "kernelspec": {
   "display_name": "Python 3",
   "language": "python",
   "name": "python3"
  },
  "language_info": {
   "codemirror_mode": {
    "name": "ipython",
    "version": 3
   },
   "file_extension": ".py",
   "mimetype": "text/x-python",
   "name": "python",
   "nbconvert_exporter": "python",
   "pygments_lexer": "ipython3",
   "version": "3.11.9"
  }
 },
 "nbformat": 4,
 "nbformat_minor": 5
}
