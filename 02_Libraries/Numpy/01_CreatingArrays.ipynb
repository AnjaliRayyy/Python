{
 "cells": [
  {
   "cell_type": "code",
   "execution_count": 1,
   "id": "baccbf5e",
   "metadata": {},
   "outputs": [],
   "source": [
    "import numpy as np"
   ]
  },
  {
   "cell_type": "markdown",
   "id": "c417d6ed",
   "metadata": {},
   "source": [
    "### Creating array from list"
   ]
  },
  {
   "cell_type": "code",
   "execution_count": 2,
   "id": "d3eb8dc6",
   "metadata": {},
   "outputs": [
    {
     "name": "stdout",
     "output_type": "stream",
     "text": [
      "1D array: [1 2 3 4 5]\n",
      "2D array: [[1 2 3]\n",
      " [4 5 6]]\n"
     ]
    }
   ],
   "source": [
    "arr_1d=np.array([1,2,3,4,5])\n",
    "print(\"1D array:\",arr_1d)\n",
    "arr_2d=np.array([[1,2,3],[4,5,6]])\n",
    "print(\"2D array:\",arr_2d)"
   ]
  },
  {
   "cell_type": "markdown",
   "id": "61bd527a",
   "metadata": {},
   "source": [
    "### List vs numpy array\n"
   ]
  },
  {
   "cell_type": "code",
   "execution_count": null,
   "id": "79e0d90e",
   "metadata": {},
   "outputs": [
    {
     "name": "stdout",
     "output_type": "stream",
     "text": [
      "Python list multiplication  [1, 2, 3, 1, 2, 3]\n",
      "Numpy array multiplication :  [2 4 8]\n"
     ]
    }
   ],
   "source": [
    "py_list=[1,2,3]\n",
    "print(\"Python list multiplication \",py_list*2)\n",
    "\n",
    "np_array=np.array([1,2,4])\n",
    "print(\"Numpy array multiplication : \",np_array*2)\n",
    "\n"
   ]
  },
  {
   "cell_type": "markdown",
   "id": "6ab8488d",
   "metadata": {},
   "source": [
    "### Creating array from scratch\n"
   ]
  },
  {
   "cell_type": "code",
   "execution_count": null,
   "id": "60055b45",
   "metadata": {},
   "outputs": [
    {
     "name": "stdout",
     "output_type": "stream",
     "text": [
      "Zeros array: \n",
      " [[0. 0. 0. 0.]\n",
      " [0. 0. 0. 0.]\n",
      " [0. 0. 0. 0.]]\n",
      "Ones array:\n",
      " [[1. 1. 1.]\n",
      " [1. 1. 1.]]\n",
      "Full array: \n",
      " [[6 6 6]\n",
      " [6 6 6]\n",
      " [6 6 6]]\n",
      "[ 2  4  6  8 10 12 14 16 18]\n"
     ]
    }
   ],
   "source": [
    "zeros=np.zeros((3,4))\n",
    "print(\"Zeros array: \\n\",zeros)\n",
    "\n",
    "ones=np.ones((2,3))\n",
    "print(\"Ones array:\\n\",ones)\n",
    "\n",
    "full=np.full((3,3),6)\n",
    "print(\"Full array: \\n\",full)\n",
    "\n",
    "sequence=np.arange(2,20,2)\n",
    "print(\"Sequence array: \",sequence)"
   ]
  },
  {
   "cell_type": "markdown",
   "id": "202bcfae",
   "metadata": {},
   "source": [
    "### Array properties\n"
   ]
  },
  {
   "cell_type": "code",
   "execution_count": 18,
   "id": "200aeb34",
   "metadata": {},
   "outputs": [
    {
     "name": "stdout",
     "output_type": "stream",
     "text": [
      "Shape:  (3, 3)\n",
      "Dimension:  2\n",
      "Size:  9\n",
      "Data type:  int64\n"
     ]
    }
   ],
   "source": [
    "arr=np.array([[1,2,3],[4,5,6],[7,8,9]])\n",
    "print(\"Shape: \",arr.shape)\n",
    "print(\"Dimension: \",arr.ndim)\n",
    "print(\"Size: \",arr.size)\n",
    "print(\"Data type: \",arr.dtype)"
   ]
  },
  {
   "cell_type": "markdown",
   "id": "dd3893a9",
   "metadata": {},
   "source": [
    "### Array reshaping"
   ]
  },
  {
   "cell_type": "code",
   "execution_count": 25,
   "id": "36b0a179",
   "metadata": {},
   "outputs": [
    {
     "name": "stdout",
     "output_type": "stream",
     "text": [
      "Original array: [ 0  1  2  3  4  5  6  7  8  9 10 11]\n",
      "\n",
      "Reshaped array: [[ 0  1  2  3]\n",
      " [ 4  5  6  7]\n",
      " [ 8  9 10 11]]\n",
      "\n",
      "Flattened array:  [ 0  1  2  3  4  5  6  7  8  9 10 11]\n",
      "\n",
      "Raveled array: [ 0  1  2  3  4  5  6  7  8  9 10 11]\n",
      "\n",
      "Transpose: [[ 0  4  8]\n",
      " [ 1  5  9]\n",
      " [ 2  6 10]\n",
      " [ 3  7 11]]\n"
     ]
    }
   ],
   "source": [
    "arr=np.arange(12)\n",
    "print(\"Original array:\",arr)\n",
    "\n",
    "reshaped=arr.reshape((3,4))\n",
    "print(\"\\nReshaped array:\",reshaped)\n",
    "\n",
    "flatten=reshaped.flatten()\n",
    "print(\"\\nFlattened array: \",flatten)\n",
    "\n",
    "raveled=reshaped.ravel()\n",
    "print(\"\\nRaveled array:\",raveled)\n",
    "\n",
    "transpose=reshaped.T\n",
    "print(\"\\nTranspose:\",transpose)"
   ]
  }
 ],
 "metadata": {
  "kernelspec": {
   "display_name": "Python 3",
   "language": "python",
   "name": "python3"
  },
  "language_info": {
   "codemirror_mode": {
    "name": "ipython",
    "version": 3
   },
   "file_extension": ".py",
   "mimetype": "text/x-python",
   "name": "python",
   "nbconvert_exporter": "python",
   "pygments_lexer": "ipython3",
   "version": "3.11.9"
  }
 },
 "nbformat": 4,
 "nbformat_minor": 5
}
