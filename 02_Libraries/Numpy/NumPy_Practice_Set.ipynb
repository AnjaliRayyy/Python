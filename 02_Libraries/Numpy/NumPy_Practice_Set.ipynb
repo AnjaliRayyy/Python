{
 "cells": [
  {
   "cell_type": "markdown",
   "id": "2795cb17",
   "metadata": {},
   "source": [
    "# 🧮 NumPy Practice Set (Easy → Hard + Dataset Challenge)\n",
    "This notebook is designed to help you master **NumPy** step-by-step — from basic array manipulation to real-world dataset challenges.\n",
    "\n",
    "**Instructions:**\n",
    "- Attempt each section in order.\n",
    "- Write your answers in the provided code cells.\n",
    "- Use `Shift + Enter` to run cells.\n",
    "- Don't import any libraries other than `numpy` unless instructed.\n",
    "\n",
    "Let's get started 🚀"
   ]
  },
  {
   "cell_type": "code",
   "execution_count": 2,
   "id": "a05131b8",
   "metadata": {},
   "outputs": [
    {
     "name": "stdout",
     "output_type": "stream",
     "text": [
      "NumPy Version: 2.2.6\n"
     ]
    }
   ],
   "source": [
    "import numpy as np\n",
    "\n",
    "# Check version\n",
    "print('NumPy Version:', np.__version__)"
   ]
  },
  {
   "cell_type": "markdown",
   "id": "ec70b1eb",
   "metadata": {},
   "source": [
    "## 🟢 Easy Level (Basics & Array Manipulation)\n",
    "\n",
    "1. Create a NumPy array of integers from 1 to 20.  \n",
    "2. Generate a 3x3 matrix with values ranging from 2 to 10.  \n",
    "3. Create a 5x5 array of all `True` values.  \n",
    "4. Convert a Python list `[1, 2, 3, 4, 5]` into a NumPy array and multiply each element by 3.  \n",
    "5. Create an array of zeros of size 10 and replace the fifth element with 5.  \n",
    "6. Create an array of 10 random integers between 1 and 100 and find the maximum and minimum values.  \n",
    "7. Create an array from 0 to 9 and reverse it without using slicing.  \n",
    "8. Reshape an array of 1 to 9 into a 3x3 matrix.  \n",
    "9. Create an identity matrix of size 4x4.  \n",
    "10. Create two arrays and perform element-wise addition, subtraction, multiplication, and division.\n"
   ]
  },
  {
   "cell_type": "code",
   "execution_count": 3,
   "id": "257390c6",
   "metadata": {},
   "outputs": [
    {
     "name": "stdout",
     "output_type": "stream",
     "text": [
      "[ 1  2  3  4  5  6  7  8  9 10 11 12 13 14 15 16 17 18 19 20]\n"
     ]
    }
   ],
   "source": [
    "# Create a NumPy array of integers from 1 to 20\n",
    "arr=np.arange(1,21)\n",
    "print(arr)"
   ]
  },
  {
   "cell_type": "code",
   "execution_count": 4,
   "id": "1dbf4d2d",
   "metadata": {},
   "outputs": [
    {
     "data": {
      "text/plain": [
       "array([[ 2,  3,  4],\n",
       "       [ 5,  6,  7],\n",
       "       [ 8,  9, 10]])"
      ]
     },
     "execution_count": 4,
     "metadata": {},
     "output_type": "execute_result"
    }
   ],
   "source": [
    "# Generate a 3x3 matrix with values ranging from 2 to 10\n",
    "matrix=np.arange(2,11).reshape((3,3))\n",
    "matrix"
   ]
  },
  {
   "cell_type": "code",
   "execution_count": 5,
   "id": "82862cb1",
   "metadata": {},
   "outputs": [
    {
     "data": {
      "text/plain": [
       "array([[ True,  True,  True,  True,  True],\n",
       "       [ True,  True,  True,  True,  True],\n",
       "       [ True,  True,  True,  True,  True],\n",
       "       [ True,  True,  True,  True,  True],\n",
       "       [ True,  True,  True,  True,  True]])"
      ]
     },
     "execution_count": 5,
     "metadata": {},
     "output_type": "execute_result"
    }
   ],
   "source": [
    "# Generate a 5x5 array of all True values\n",
    "arr2=np.full((5,5),True)\n",
    "arr2"
   ]
  },
  {
   "cell_type": "code",
   "execution_count": 6,
   "id": "0a80739e",
   "metadata": {},
   "outputs": [
    {
     "name": "stdout",
     "output_type": "stream",
     "text": [
      "[ 3  6  9 12 15]\n"
     ]
    }
   ],
   "source": [
    "# Convert a Python list [1, 2, 3, 4, 5] into a NumPy array and multiply each element by 3.\n",
    "L=[1,2,3,4,5]\n",
    "np_arr=np.array(L)*3\n",
    "print(np_arr)"
   ]
  },
  {
   "cell_type": "code",
   "execution_count": 7,
   "id": "a423ff46",
   "metadata": {},
   "outputs": [
    {
     "name": "stdout",
     "output_type": "stream",
     "text": [
      "[0. 0. 0. 0. 5. 0. 0. 0. 0. 0.]\n"
     ]
    }
   ],
   "source": [
    "# Create an array of zeros of size 10 and replace the fifth element with 5.\n",
    "zeros=np.zeros(10)\n",
    "zeros[4]=5\n",
    "print(zeros)"
   ]
  },
  {
   "cell_type": "code",
   "execution_count": 8,
   "id": "523fdd51",
   "metadata": {},
   "outputs": [
    {
     "name": "stdout",
     "output_type": "stream",
     "text": [
      "[15 21 12 31  4 30 90 39 57 85]\n",
      "Maximum: 90\n",
      "Minimum: 4\n"
     ]
    }
   ],
   "source": [
    "# Create an array of 10 random integers between 1 and 100 and find the maximum and minimum values.\n",
    "random_arr=np.random.randint(1,100,10)\n",
    "max=np.max(random_arr)\n",
    "min=np.min(random_arr)\n",
    "print(random_arr)\n",
    "print(\"Maximum:\",max)\n",
    "print(\"Minimum:\",min)"
   ]
  },
  {
   "cell_type": "code",
   "execution_count": 9,
   "id": "7f52b9f6",
   "metadata": {},
   "outputs": [
    {
     "name": "stdout",
     "output_type": "stream",
     "text": [
      "Original Array : [0 1 2 3 4 5 6 7 8 9]\n",
      "Reversed Array : [9 8 7 6 5 4 3 2 1 0]\n"
     ]
    }
   ],
   "source": [
    "# Create an array from 0 to 9 and reverse it without using slicing\n",
    "arr3=np.arange(0,10)\n",
    "rev_arr=np.flip(arr3)\n",
    "print(\"Original Array :\",arr3)\n",
    "print(\"Reversed Array :\",rev_arr)"
   ]
  },
  {
   "cell_type": "code",
   "execution_count": 10,
   "id": "cdc2ca96",
   "metadata": {},
   "outputs": [
    {
     "name": "stdout",
     "output_type": "stream",
     "text": [
      "Reshaped array :\n",
      " [[1 2 3]\n",
      " [4 5 6]\n",
      " [7 8 9]]\n"
     ]
    }
   ],
   "source": [
    "# Reshape an array of 1 to 9 into a 3x3 matrix.\n",
    "arr4=np.arange(1,10)\n",
    "reshaped=arr4.reshape((3,3))\n",
    "print(\"Reshaped array :\\n\",reshaped)"
   ]
  },
  {
   "cell_type": "code",
   "execution_count": 11,
   "id": "a8aad190",
   "metadata": {},
   "outputs": [
    {
     "name": "stdout",
     "output_type": "stream",
     "text": [
      "[[1. 0. 0. 0.]\n",
      " [0. 1. 0. 0.]\n",
      " [0. 0. 1. 0.]\n",
      " [0. 0. 0. 1.]]\n"
     ]
    }
   ],
   "source": [
    "# Create an identity matrix of size 4x4.\n",
    "identity=np.identity(4)\n",
    "print(identity)"
   ]
  },
  {
   "cell_type": "code",
   "execution_count": 12,
   "id": "2d887b52",
   "metadata": {},
   "outputs": [
    {
     "name": "stdout",
     "output_type": "stream",
     "text": [
      "Array 1 : [1 2 3 4 5]\n",
      "Array 2 : [ 6  7  8  9 10]\n",
      "Addition :\n",
      " [ 7  9 11 13 15]\n",
      "Subtraction :\n",
      " [-5 -5 -5 -5 -5]\n",
      "Multiplication :\n",
      " [ 6 14 24 36 50]\n",
      "Division :\n",
      " [0.16666667 0.28571429 0.375      0.44444444 0.5       ]\n"
     ]
    }
   ],
   "source": [
    "# Create two arrays and perform element-wise addition, subtraction, multiplication, and division.\n",
    "arr1=np.arange(1,6)\n",
    "arr2=np.arange(6,11)\n",
    "add_arr=arr1+arr2\n",
    "sub_arr=arr1-arr2\n",
    "mult_arr=arr1*arr2\n",
    "div_arr=arr1/arr2\n",
    "print(\"Array 1 :\",arr1)\n",
    "print(\"Array 2 :\",arr2)\n",
    "print(\"Addition :\\n\",add_arr)\n",
    "print(\"Subtraction :\\n\",sub_arr)\n",
    "print(\"Multiplication :\\n\",mult_arr)\n",
    "print(\"Division :\\n\",div_arr)"
   ]
  },
  {
   "cell_type": "markdown",
   "id": "70f3a180",
   "metadata": {},
   "source": [
    "## 🟡 Intermediate Level (Indexing, Math Ops, Broadcasting, Aggregations)\n",
    "\n",
    "1. Create a 4x4 array and extract the diagonal elements.  \n",
    "2. Given a 1D array `[1, 2, 3, 4, 5, 6, 7, 8, 9]`, extract all even numbers.  \n",
    "3. Replace all odd numbers in an array with `-1`.  \n",
    "4. Normalize a random 3x3 matrix (values scaled between 0 and 1).  \n",
    "5. Stack two arrays vertically and horizontally using `np.vstack()` and `np.hstack()`.  \n",
    "6. Compute the mean, median, standard deviation, and variance of an array of 20 random integers.  \n",
    "7. Create a 3x4 matrix and find the sum of each row and each column.  \n",
    "8. Use **boolean indexing** to replace all elements greater than a specific number with that number itself.  \n",
    "9. Create a 5x5 matrix and set the border elements to 1 and the rest to 0.  \n",
    "10. Given a 3D array, flatten it to 1D and then reshape it back.\n"
   ]
  },
  {
   "cell_type": "code",
   "execution_count": 13,
   "id": "5cf23d53",
   "metadata": {},
   "outputs": [
    {
     "name": "stdout",
     "output_type": "stream",
     "text": [
      "Original array :\n",
      " [[ 0  1  2  3]\n",
      " [ 4  5  6  7]\n",
      " [ 8  9 10 11]\n",
      " [12 13 14 15]]\n",
      "Diagonal elements :\n",
      " [ 0  5 10 15]\n"
     ]
    }
   ],
   "source": [
    "# Create a 4x4 array and extract the diagonal elements\n",
    "arr=np.arange(0,16).reshape((4,4))\n",
    "diag=np.diag(arr)\n",
    "print(\"Original array :\\n\",arr)\n",
    "print(\"Diagonal elements :\\n\",diag)"
   ]
  },
  {
   "cell_type": "code",
   "execution_count": 14,
   "id": "9dd2407a",
   "metadata": {},
   "outputs": [
    {
     "name": "stdout",
     "output_type": "stream",
     "text": [
      "[2 4 6 8]\n"
     ]
    }
   ],
   "source": [
    "# Given a 1D array [1, 2, 3, 4, 5, 6, 7, 8, 9], extract all even numbers.\n",
    "num=np.arange(1,10)\n",
    "even=num[num%2==0]\n",
    "print(even)"
   ]
  },
  {
   "cell_type": "code",
   "execution_count": 15,
   "id": "55f32ab6",
   "metadata": {},
   "outputs": [
    {
     "name": "stdout",
     "output_type": "stream",
     "text": [
      "Original array : [1 2 3 4 5 6 7 8 9]\n",
      "Replaced array : [-1  2 -1  4 -1  6 -1  8 -1]\n"
     ]
    }
   ],
   "source": [
    "# Replace all odd numbers in an array with -1.\n",
    "numbers=np.arange(1,10)\n",
    "replaced_num=np.where(numbers%2==1,-1,numbers)\n",
    "print(\"Original array :\",numbers)\n",
    "print(\"Replaced array :\",replaced_num)"
   ]
  },
  {
   "cell_type": "code",
   "execution_count": 16,
   "id": "a11f78c7",
   "metadata": {},
   "outputs": [
    {
     "name": "stdout",
     "output_type": "stream",
     "text": [
      "Original matrix : [[97 91 70]\n",
      " [44 52 34]\n",
      " [68  2 15]]\n",
      "Normalized matrix : [[1.         0.93684211 0.71578947]\n",
      " [0.44210526 0.52631579 0.33684211]\n",
      " [0.69473684 0.         0.13684211]]\n"
     ]
    }
   ],
   "source": [
    "# Normalize a random 3x3 matrix (values scaled between 0 and 1).\n",
    "mat=np.random.randint(1,100,9).reshape((3,3))\n",
    "min=np.min(mat)\n",
    "max=np.max(mat)\n",
    "normalized_mat=(mat-min)/(max-min)\n",
    "print(\"Original matrix :\",mat)\n",
    "print(\"Normalized matrix :\",normalized_mat)"
   ]
  },
  {
   "cell_type": "code",
   "execution_count": 17,
   "id": "a9f367ca",
   "metadata": {},
   "outputs": [
    {
     "name": "stdout",
     "output_type": "stream",
     "text": [
      "Array 1 : [[12  6 12]\n",
      " [19 17 14]]\n",
      "Array 2 : [[10 17 17]\n",
      " [12  4 16]]\n",
      "Row Stack : [[12  6 12]\n",
      " [19 17 14]\n",
      " [10 17 17]\n",
      " [12  4 16]]\n",
      "Column Stack : [[12  6 12 10 17 17]\n",
      " [19 17 14 12  4 16]]\n"
     ]
    }
   ],
   "source": [
    "# Stack two arrays vertically and horizontally using np.vstack() and np.hstack()\n",
    "arr1=np.random.randint(1,20,6).reshape((2,3))\n",
    "arr2=np.random.randint(1,20,6).reshape((2,3))\n",
    "row_stack=np.vstack((arr1,arr2))\n",
    "col_stack=np.hstack((arr1,arr2))\n",
    "print(\"Array 1 :\",arr1)\n",
    "print(\"Array 2 :\",arr2)\n",
    "print(\"Row Stack :\",row_stack)\n",
    "print(\"Column Stack :\",col_stack)"
   ]
  },
  {
   "cell_type": "code",
   "execution_count": 18,
   "id": "2f8ba5c5",
   "metadata": {},
   "outputs": [
    {
     "name": "stdout",
     "output_type": "stream",
     "text": [
      "Array : [ 7 13 78 29 61 99  4 97 30 18 40 80 35 92 27 39 13 70 54 28]\n",
      "Mean : 45.7\n",
      "Median : 37.0\n",
      "Standard deviation : 30.209435612073257\n",
      "Variance : 912.61\n"
     ]
    }
   ],
   "source": [
    "# Compute the mean, median, standard deviation, and variance of an array of 20 random integers.\n",
    "arr=np.random.randint(1,100,20)\n",
    "mean=np.mean(arr)\n",
    "median=np.median(arr)\n",
    "variance=np.var(arr)\n",
    "stan_dev=np.std(arr)\n",
    "print(\"Array :\",arr)\n",
    "print(\"Mean :\",mean)\n",
    "print(\"Median :\",median)\n",
    "print(\"Standard deviation :\",stan_dev)\n",
    "print(\"Variance :\",variance)\n"
   ]
  },
  {
   "cell_type": "code",
   "execution_count": 19,
   "id": "416262db",
   "metadata": {},
   "outputs": [
    {
     "name": "stdout",
     "output_type": "stream",
     "text": [
      "Matrix : [[ 1  2  3  4]\n",
      " [ 5  6  7  8]\n",
      " [ 9 10 11 12]]\n",
      "Row sum : [10 26 42]\n",
      "Column sum : [15 18 21 24]\n"
     ]
    }
   ],
   "source": [
    "# Create a 3x4 matrix and find the sum of each row and each column.\n",
    "arr=np.arange(1,13).reshape((3,4))\n",
    "row_sum=np.sum(arr,axis=1)\n",
    "col_sum=np.sum(arr,axis=0)\n",
    "print(\"Matrix :\",arr)\n",
    "print(\"Row sum :\",row_sum)\n",
    "print(\"Column sum :\",col_sum)"
   ]
  },
  {
   "cell_type": "code",
   "execution_count": 20,
   "id": "5dec1e62",
   "metadata": {},
   "outputs": [
    {
     "name": "stdout",
     "output_type": "stream",
     "text": [
      "Original Array : [44 77 76 99  2 95 91 32 43  1]\n",
      "After replacement : [44 77 76 88  2 88 88 32 43  1]\n"
     ]
    }
   ],
   "source": [
    "# Use boolean indexing to replace all elements greater than a specific number with that number itself.\n",
    "arr=np.random.randint(1,100,10)\n",
    "print(\"Original Array :\",arr)\n",
    "num=np.random.randint(1,100)\n",
    "arr[arr>num]=num\n",
    "print(\"After replacement :\",arr)\n"
   ]
  },
  {
   "cell_type": "code",
   "execution_count": 21,
   "id": "cc187c89",
   "metadata": {},
   "outputs": [
    {
     "name": "stdout",
     "output_type": "stream",
     "text": [
      "[[1. 1. 1. 1. 1.]\n",
      " [1. 0. 0. 0. 1.]\n",
      " [1. 0. 0. 0. 1.]\n",
      " [1. 0. 0. 0. 1.]\n",
      " [1. 1. 1. 1. 1.]]\n"
     ]
    }
   ],
   "source": [
    "# Create a 5x5 matrix and set the border elements to 1 and the rest to 0.\n",
    "num=np.zeros((5,5))\n",
    "num[:,0]=1\n",
    "num[:,4]=1\n",
    "num[0,:]=1\n",
    "num[4,:]=1\n",
    "print(num)\n"
   ]
  },
  {
   "cell_type": "code",
   "execution_count": 22,
   "id": "66847db0",
   "metadata": {},
   "outputs": [
    {
     "name": "stdout",
     "output_type": "stream",
     "text": [
      "Original 3d Array : [[ 1  2  3  4]\n",
      " [ 5  6  7  8]\n",
      " [ 9 10 11 12]]\n",
      "Flattened Array : [ 1  2  3  4  5  6  7  8  9 10 11 12]\n",
      "Reshaped Array : [[[ 1  2  3  4]\n",
      "  [ 5  6  7  8]\n",
      "  [ 9 10 11 12]]]\n"
     ]
    }
   ],
   "source": [
    "# Given a 3D array, flatten it to 1D and then reshape it back.\n",
    "arr3d=np.array([[1,2,3,4],[5,6,7,8],[9,10,11,12]])\n",
    "flat_arr=arr3d.flatten()\n",
    "reshaped=flat_arr.reshape((1,3,4))\n",
    "print(\"Original 3d Array :\",arr3d)\n",
    "print(\"Flattened Array :\",flat_arr)\n",
    "print(\"Reshaped Array :\",reshaped)"
   ]
  },
  {
   "cell_type": "markdown",
   "id": "4ca9f7dd",
   "metadata": {},
   "source": [
    "## 🔵 Hard Level (Linear Algebra, Broadcasting Tricks, Performance)\n",
    "\n",
    "1. Create two 3x3 matrices and compute their dot product using `np.dot()` and the `@` operator.  \n",
    "2. Compute the determinant, rank, and inverse of a random 3x3 matrix.  \n",
    "3. Solve a linear equation system \\( Ax = b \\) using `np.linalg.solve`.  \n",
    "4. Generate a 1D Gaussian distribution array using `np.linspace()` and `np.exp()`.  \n",
    "5. Create a 10x10 matrix with random values and replace the maximum element with `0`.  \n",
    "6. Sort a 2D array by its second column.  \n",
    "7. Generate a 5x5 matrix with random integers and count how many unique values it has.  \n",
    "8. Compute the pairwise Euclidean distance between two random sets of points (using broadcasting).  \n",
    "9. Apply a custom function element-wise using `np.vectorize()`.  \n",
    "10. Benchmark the sum of rows in a 1000x1000 random matrix using both NumPy and Python loops (compare speed).\n"
   ]
  },
  {
   "cell_type": "code",
   "execution_count": 23,
   "id": "e595f30e",
   "metadata": {},
   "outputs": [
    {
     "name": "stdout",
     "output_type": "stream",
     "text": [
      "Matrix 1 : [[ 8  9  6]\n",
      " [ 7 16  7]\n",
      " [ 3  8 10]]\n",
      "Matrix 2 : [[14 11 16]\n",
      " [ 8  2  6]\n",
      " [ 1 19 16]]\n",
      "Dot product using np.dot() : [[190 220 278]\n",
      " [233 242 320]\n",
      " [116 239 256]]\n",
      "Dot product using @ : [[190 220 278]\n",
      " [233 242 320]\n",
      " [116 239 256]]\n"
     ]
    }
   ],
   "source": [
    "# Create two 3x3 matrices and compute their dot product using np.dot() and the @ operator\n",
    "mat1=np.random.randint(1,20,(3,3))\n",
    "mat2=np.random.randint(1,20,(3,3))\n",
    "dot_prod1=np.dot(mat1,mat2)\n",
    "dot_prod2=mat1 @ mat2\n",
    "print(\"Matrix 1 :\",mat1)\n",
    "print(\"Matrix 2 :\",mat2)\n",
    "print(\"Dot product using np.dot() :\",dot_prod1)\n",
    "print(\"Dot product using @ :\",dot_prod2)\n",
    "\n"
   ]
  },
  {
   "cell_type": "code",
   "execution_count": 24,
   "id": "d220c672",
   "metadata": {},
   "outputs": [
    {
     "name": "stdout",
     "output_type": "stream",
     "text": [
      "Original matrix : [[ 2 17  2]\n",
      " [ 9  8  4]\n",
      " [10 11 13]]\n",
      "Determinant : -1150.999999999999\n",
      "Rank : 3\n",
      "Inverse : [[-0.05212858  0.17289314 -0.04517811]\n",
      " [ 0.06689835 -0.00521286 -0.0086881 ]\n",
      " [-0.01650738 -0.12858384  0.11902693]]\n"
     ]
    }
   ],
   "source": [
    "# Compute the determinant, rank, and inverse of a random 3x3 matrix.\n",
    "matrix=np.random.randint(1,20,(3,3))\n",
    "determinant=np.linalg.det(matrix)\n",
    "rank=np.linalg.matrix_rank(matrix)\n",
    "inverse=np.linalg.inv(matrix)\n",
    "print(\"Original matrix :\",matrix)\n",
    "print(\"Determinant :\",determinant)\n",
    "print(\"Rank :\",rank)\n",
    "print(\"Inverse :\",inverse)\n"
   ]
  },
  {
   "cell_type": "code",
   "execution_count": 25,
   "id": "6ef56e8a",
   "metadata": {},
   "outputs": [
    {
     "name": "stdout",
     "output_type": "stream",
     "text": [
      "A :\n",
      " [[16  5  6]\n",
      " [10 17 19]\n",
      " [12 10  7]]\n",
      "\n",
      "b :\n",
      " [[ 8  1 15]\n",
      " [16  9  2]\n",
      " [14 11 15]]\n",
      "\n",
      "Solution of Ax=b is:\n",
      " [[ 0.2742268  -0.07938144  1.15463918]\n",
      " [ 1.55876289  2.23298969  1.24742268]\n",
      " [-0.69690722 -1.48247423 -1.6185567 ]]\n"
     ]
    }
   ],
   "source": [
    "# Solve a linear equation system 𝐴𝑥=𝑏 using np.linalg.solve.\n",
    "A=np.random.randint(1,20,(3,3))\n",
    "b=np.random.randint(1,20,(3,3))\n",
    "x=np.linalg.solve(A,b)\n",
    "print(\"A :\\n\",A)\n",
    "print(\"\\nb :\\n\",b)\n",
    "print(\"\\nSolution of Ax=b is:\\n\",x)"
   ]
  },
  {
   "cell_type": "code",
   "execution_count": 26,
   "id": "86ddf2fa",
   "metadata": {},
   "outputs": [],
   "source": [
    "# Generate a 1D Gaussian distribution array using np.linspace() and np.exp()."
   ]
  },
  {
   "cell_type": "code",
   "execution_count": 27,
   "id": "0bd6b2e0",
   "metadata": {},
   "outputs": [
    {
     "name": "stdout",
     "output_type": "stream",
     "text": [
      "Original matrix : [[49 72 95 51  4 18 67 32 32 97]\n",
      " [53 96 48 23 49 18 63 32 61 70]\n",
      " [98  4 96  9 35 25 20 62 57 23]\n",
      " [83  8 14 80 75 43 77 35 86 11]\n",
      " [97  4 24 17 53 43 94  5 11 60]\n",
      " [61  9 41 91 53 30 93 99 95  2]\n",
      " [40  2 81  8 54 13 17 72 46 37]\n",
      " [ 5 58 70 54 48 34 66 13 79 72]\n",
      " [72 24 58 40 37 53 88 69 44  5]\n",
      " [90 95 73 57 89 10 87 23 53 80]]\n",
      "Maximum element : 99\n",
      "After replacement : [[49 72 95 51  4 18 67 32 32 97]\n",
      " [53 96 48 23 49 18 63 32 61 70]\n",
      " [98  4 96  9 35 25 20 62 57 23]\n",
      " [83  8 14 80 75 43 77 35 86 11]\n",
      " [97  4 24 17 53 43 94  5 11 60]\n",
      " [61  9 41 91 53 30 93  0 95  2]\n",
      " [40  2 81  8 54 13 17 72 46 37]\n",
      " [ 5 58 70 54 48 34 66 13 79 72]\n",
      " [72 24 58 40 37 53 88 69 44  5]\n",
      " [90 95 73 57 89 10 87 23 53 80]]\n"
     ]
    }
   ],
   "source": [
    "# Create a 10x10 matrix with random values and replace the maximum element with 0\n",
    "mat=np.random.randint(1,100,(10,10))\n",
    "print(\"Original matrix :\",mat)\n",
    "max=np.max(mat)\n",
    "print(\"Maximum element :\",max)\n",
    "mat=np.where(mat==max,0,mat)\n",
    "print(\"After replacement :\",mat)"
   ]
  },
  {
   "cell_type": "code",
   "execution_count": 28,
   "id": "5cbf0958",
   "metadata": {},
   "outputs": [
    {
     "name": "stdout",
     "output_type": "stream",
     "text": [
      "Original Array:\n",
      " [[5 2 9]\n",
      " [1 6 7]\n",
      " [3 4 8]]\n",
      "Sorted by 2nd column:  [[5 2 9]\n",
      " [3 4 8]\n",
      " [1 6 7]]\n"
     ]
    }
   ],
   "source": [
    "# Sort a 2D array by its second column.\n",
    "arr = np.array([[5, 2, 9],\n",
    "                [1, 6, 7],\n",
    "                [3, 4, 8]])\n",
    "\n",
    "print(\"Original Array:\\n\", arr)\n",
    "sorted_arr=arr[arr[:,1].argsort()]\n",
    "print(\"Sorted by 2nd column: \",sorted_arr)"
   ]
  },
  {
   "cell_type": "code",
   "execution_count": 29,
   "id": "84f16480",
   "metadata": {},
   "outputs": [
    {
     "name": "stdout",
     "output_type": "stream",
     "text": [
      "Matrix : [[82 73 67 92 79]\n",
      " [11 82  4 22 40]\n",
      " [80 79 76 18 91]\n",
      " [21 41 27 30  3]\n",
      " [11 21 54 45  6]]\n",
      "No. of unique elements : 21\n"
     ]
    }
   ],
   "source": [
    "# Generate a 5x5 matrix with random integers and count how many unique values it has. \n",
    "matrix=np.random.randint(1,100,(5,5))\n",
    "unique=np.unique_counts(matrix).values.size\n",
    "print(\"Matrix :\",matrix)\n",
    "print(\"No. of unique elements :\",unique)"
   ]
  },
  {
   "cell_type": "code",
   "execution_count": 30,
   "id": "6bb189e6",
   "metadata": {},
   "outputs": [
    {
     "name": "stdout",
     "output_type": "stream",
     "text": [
      "Array1 : [1 2 3]\n",
      "Array2 : [4 5 6]\n",
      "Euclidean distance : 5.196152422706632\n"
     ]
    }
   ],
   "source": [
    "# Compute the pairwise Euclidean distance between two random sets of points (using broadcasting).\n",
    "a=np.array([1,2,3])\n",
    "b=np.array([4,5,6])\n",
    "dist=np.sqrt(np.sum((a-b)**2))\n",
    "print(\"Array1 :\",a)\n",
    "print(\"Array2 :\",b)\n",
    "print(\"Euclidean distance :\",dist)"
   ]
  },
  {
   "cell_type": "code",
   "execution_count": 31,
   "id": "d51fb844",
   "metadata": {},
   "outputs": [
    {
     "name": "stdout",
     "output_type": "stream",
     "text": [
      "Array : ['Hello' 'World!' 'This' 'Is' 'Nump']\n",
      "Array2 : [ 6  7  8  9 10 11 12]\n"
     ]
    }
   ],
   "source": [
    "# Apply a custom function element-wise using np.vectorize().\n",
    "arr=np.array([\"hello\",\"world!\",\"this\",\"is\",\"nump\"])\n",
    "arr2=np.array([1,2,3,4,5,6,7])\n",
    "vectorization=np.vectorize(str.title)\n",
    "def add(x):\n",
    "    return x+5\n",
    "vectorization2=np.vectorize(add)\n",
    "print(\"Array :\",vectorization(arr))\n",
    "print(\"Array2 :\",vectorization2(arr2))"
   ]
  },
  {
   "cell_type": "code",
   "execution_count": 42,
   "id": "6c6f7e11",
   "metadata": {},
   "outputs": [
    {
     "name": "stdout",
     "output_type": "stream",
     "text": [
      "Time taken using python loop : 0.46105074882507324\n",
      "Time taken using numpy : 0.001003265380859375\n"
     ]
    }
   ],
   "source": [
    "# Benchmark the sum of rows in a 1000x1000 random matrix using both NumPy and Python loops (compare speed).\n",
    "import time\n",
    "matrix=np.random.randint(1,100,(1000,1000))\n",
    "sum=np.zeros(1000)\n",
    "# Using python loops \n",
    "start=time.time()\n",
    "for x in range(0,1000):\n",
    "    for y in range(0,1000):\n",
    "        sum[x]+=matrix[x][y]\n",
    "stop=time.time()-start\n",
    "print(\"Time taken using python loop :\",stop)\n",
    "\n",
    "# Using NumPy\n",
    "start=time.time()\n",
    "sum=np.sum(matrix,axis=1)\n",
    "stop=time.time()-start\n",
    "print(\"Time taken using numpy :\",stop)\n",
    "\n"
   ]
  },
  {
   "cell_type": "markdown",
   "id": "8c5d41b1",
   "metadata": {},
   "source": [
    "## 🧠 Bonus Logic Challenges\n",
    "\n",
    "1. Compute the Fibonacci sequence up to `n = 15` using only NumPy (no loops).  \n",
    "2. Create a chessboard pattern (8x8 matrix with alternating 0s and 1s).  \n",
    "3. Find all pairs of elements from two arrays whose sum is divisible by 5.  \n",
    "4. Rotate a matrix 90° clockwise using slicing.  \n",
    "5. Simulate rolling two dice 10,000 times and estimate the probability distribution of the sums.\n"
   ]
  },
  {
   "cell_type": "code",
   "execution_count": null,
   "id": "7cafebf9",
   "metadata": {},
   "outputs": [],
   "source": [
    "# Compute the Fibonacci sequence up to n = 15 using only NumPy (no loops)\n"
   ]
  },
  {
   "cell_type": "code",
   "execution_count": null,
   "id": "252498ab",
   "metadata": {},
   "outputs": [
    {
     "name": "stdout",
     "output_type": "stream",
     "text": [
      "[[1. 0. 1. 0. 1. 0. 1. 0.]\n",
      " [0. 1. 0. 1. 0. 1. 0. 1.]\n",
      " [1. 0. 1. 0. 1. 0. 1. 0.]\n",
      " [0. 1. 0. 1. 0. 1. 0. 1.]\n",
      " [1. 0. 1. 0. 1. 0. 1. 0.]\n",
      " [0. 1. 0. 1. 0. 1. 0. 1.]\n",
      " [1. 0. 1. 0. 1. 0. 1. 0.]\n",
      " [0. 1. 0. 1. 0. 1. 0. 1.]]\n"
     ]
    }
   ],
   "source": [
    "# Create a chessboard pattern (8x8 matrix with alternating 0s and 1s)\n",
    "chess=np.zeros((8,8))\n",
    "chess[::2,::2]=1\n",
    "chess[1::2,1::2]=1\n",
    "print(chess)"
   ]
  },
  {
   "cell_type": "code",
   "execution_count": null,
   "id": "6cea3b11",
   "metadata": {},
   "outputs": [
    {
     "name": "stdout",
     "output_type": "stream",
     "text": [
      "[[0 None 2 None 5]\n",
      " [5 None 8 None 10]]\n"
     ]
    }
   ],
   "source": [
    "# Find all pairs of elements from two arrays whose sum is divisible by 5.\n",
    "a=np.array([0,2,2,4,5])\n",
    "b=np.array([5,7,8,9,10])\n",
    "c=np.where((a+b)%5==0,(a,b),None)\n",
    "print(c)"
   ]
  },
  {
   "cell_type": "code",
   "execution_count": null,
   "id": "98cf4166",
   "metadata": {},
   "outputs": [],
   "source": [
    "# Rotate a matrix 90° clockwise using slicing."
   ]
  },
  {
   "cell_type": "code",
   "execution_count": 50,
   "id": "914965a1",
   "metadata": {},
   "outputs": [
    {
     "name": "stdout",
     "output_type": "stream",
     "text": [
      "Sum = 2   Probability = 0.027\n",
      "Sum = 3   Probability = 0.0522\n",
      "Sum = 4   Probability = 0.0798\n",
      "Sum = 5   Probability = 0.1163\n",
      "Sum = 6   Probability = 0.1424\n",
      "Sum = 7   Probability = 0.1648\n",
      "Sum = 8   Probability = 0.1401\n",
      "Sum = 9   Probability = 0.111\n",
      "Sum = 10   Probability = 0.0807\n",
      "Sum = 11   Probability = 0.0552\n",
      "Sum = 12   Probability = 0.0305\n"
     ]
    }
   ],
   "source": [
    "# Simulate rolling two dice 10,000 times and estimate the probability distribution of the sums.\n",
    "dice1=np.random.randint(1,7,10000)\n",
    "dice2=np.random.randint(1,7,10000)\n",
    "sum=dice1+dice2\n",
    "values,counts=np.unique_counts(sum)\n",
    "prob=counts/10000\n",
    "for values,prob in zip(values,prob):\n",
    "    print(f\"Sum = {values}   Probability = {prob}\")"
   ]
  },
  {
   "cell_type": "markdown",
   "id": "221a5616",
   "metadata": {},
   "source": [
    "## 📊 Dataset-Based Challenge (Real-World Style Practice)\n",
    "\n",
    "### 🗂️ Dataset:\n",
    "| Student_ID | Name    | Math | Physics | Chemistry | Attendance (%) |\n",
    "|-------------|----------|------|----------|------------|----------------|\n",
    "| 101         | Aryan    | 78   | 82       | 88         | 92             |\n",
    "| 102         | Priya    | 85   | 79       | 90         | 96             |\n",
    "| 103         | Rahul    | 69   | 75       | 70         | 88             |\n",
    "| 104         | Sneha    | 92   | 95       | 89         | 98             |\n",
    "| 105         | Kabir    | 76   | 80       | 85         | 90             |\n",
    "\n",
    "### 🎯 Tasks:\n",
    "1. Create NumPy arrays for each column of the dataset.  \n",
    "2. Compute the **average marks** of each student across all subjects.  \n",
    "3. Find the **highest scorer** in Math and Chemistry.  \n",
    "4. Compute the **overall class average** for each subject.  \n",
    "5. Find all students with **attendance > 90%** and **average marks > 80**.  \n",
    "6. Add a new “Total Marks” column using array operations.  \n",
    "7. Normalize all marks (scale them between 0 and 1).  \n",
    "8. Replace all marks below 75 with the average marks of that subject.  \n",
    "9. Sort students by total marks in descending order.  \n",
    "10. (Optional) Plot the average marks per student using `matplotlib`.\n"
   ]
  },
  {
   "cell_type": "code",
   "execution_count": null,
   "id": "03f7729f",
   "metadata": {},
   "outputs": [],
   "source": [
    "# Create NumPy arrays for each column of the dataset.\n"
   ]
  },
  {
   "cell_type": "code",
   "execution_count": null,
   "id": "61080333",
   "metadata": {},
   "outputs": [],
   "source": [
    "# Compute the average marks of each student across all subjects."
   ]
  },
  {
   "cell_type": "code",
   "execution_count": null,
   "id": "3848498d",
   "metadata": {},
   "outputs": [],
   "source": [
    "# Find the highest scorer in Math and Chemistry."
   ]
  },
  {
   "cell_type": "code",
   "execution_count": null,
   "id": "ad0741c5",
   "metadata": {},
   "outputs": [],
   "source": [
    "# Compute the overall class average for each subject."
   ]
  },
  {
   "cell_type": "code",
   "execution_count": null,
   "id": "9f23e896",
   "metadata": {},
   "outputs": [],
   "source": [
    "# Find all students with attendance > 90% and average marks > 80. "
   ]
  },
  {
   "cell_type": "code",
   "execution_count": null,
   "id": "290935fd",
   "metadata": {},
   "outputs": [],
   "source": [
    "# Add a new “Total Marks” column using array operations"
   ]
  },
  {
   "cell_type": "code",
   "execution_count": null,
   "id": "a8e889dc",
   "metadata": {},
   "outputs": [],
   "source": [
    "# Normalize all marks (scale them between 0 and 1)."
   ]
  },
  {
   "cell_type": "code",
   "execution_count": null,
   "id": "4ee18873",
   "metadata": {},
   "outputs": [],
   "source": [
    "# Replace all marks below 75 with the average marks of that subject."
   ]
  },
  {
   "cell_type": "code",
   "execution_count": null,
   "id": "bfdc98eb",
   "metadata": {},
   "outputs": [],
   "source": [
    "# Sort students by total marks in descending order."
   ]
  },
  {
   "cell_type": "code",
   "execution_count": null,
   "id": "28bbb385",
   "metadata": {},
   "outputs": [],
   "source": [
    "# Plot (optional, if using matplotlib) the average marks per student."
   ]
  }
 ],
 "metadata": {
  "kernelspec": {
   "display_name": "Python 3",
   "language": "python",
   "name": "python3"
  },
  "language_info": {
   "codemirror_mode": {
    "name": "ipython",
    "version": 3
   },
   "file_extension": ".py",
   "mimetype": "text/x-python",
   "name": "python",
   "nbconvert_exporter": "python",
   "pygments_lexer": "ipython3",
   "version": "3.11.9"
  }
 },
 "nbformat": 4,
 "nbformat_minor": 5
}
