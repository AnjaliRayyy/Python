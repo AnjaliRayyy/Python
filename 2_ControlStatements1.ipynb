{
 "cells": [
  {
   "cell_type": "code",
   "execution_count": null,
   "id": "8deac04e",
   "metadata": {},
   "outputs": [],
   "source": [
    "# Odd-Even\n",
    "num=int(input(\"Enter the number: \"))\n",
    "if num%2==0:\n",
    "    print(\"Even\")\n",
    "else:\n",
    "    print(\"Odd\")"
   ]
  },
  {
   "cell_type": "code",
   "execution_count": null,
   "id": "5cb88dfa",
   "metadata": {},
   "outputs": [],
   "source": [
    "# Largest of three\n",
    "a=int(input(\"Enter the first number : \"))\n",
    "b=int(input(\"Enter the second number : \"))\n",
    "c=int(input(\"Enter the third number : \"))\n",
    "if a>b and a>c:\n",
    "    print(\"Largest =\",a)\n",
    "elif b>c:\n",
    "    print(\"Largest =\",b)\n",
    "else:\n",
    "    print(\"Largest =\",c)"
   ]
  },
  {
   "cell_type": "code",
   "execution_count": 3,
   "id": "10d81e39",
   "metadata": {},
   "outputs": [
    {
     "name": "stdout",
     "output_type": "stream",
     "text": [
      "Sum1 = 60 \n",
      "Sum2 = 60\n"
     ]
    }
   ],
   "source": [
    "# Sum of non duplicate numbers\n",
    "a=int(input(\"Enter the first number : \"))\n",
    "b=int(input(\"Enter the second number : \"))\n",
    "c=int(input(\"Enter the third number : \"))\n",
    "sum1=a+b+c\n",
    "sum2=0\n",
    "if a!=b and a!=c:\n",
    "    sum2+=a\n",
    "if b!=c and b!=a:\n",
    "    sum2+=b\n",
    "if c!=a and c!=b:\n",
    "    sum2+=c\n",
    "print(\"Sum1 =\",sum1,\"\\nSum2 =\",sum2)\n",
    "    "
   ]
  },
  {
   "cell_type": "code",
   "execution_count": 5,
   "id": "7a357b5c",
   "metadata": {},
   "outputs": [
    {
     "name": "stdout",
     "output_type": "stream",
     "text": [
      "20 ** 2 = 400\n"
     ]
    }
   ],
   "source": [
    "# Arithematic operations\n",
    "a=int(input(\"Enter the first number: \"))\n",
    "b=int(input(\"Enter the second number: \"))\n",
    "op=input(\"Enter the operator: \")\n",
    "result=0\n",
    "if op=='+':\n",
    "    result=a+b\n",
    "elif op=='-':\n",
    "    result=a-b\n",
    "elif op=='*':\n",
    "    result=a*b\n",
    "elif op=='/':\n",
    "    result=a/b\n",
    "elif op=='%':\n",
    "    result=a%b\n",
    "elif op=='**':\n",
    "    result=a**b\n",
    "else:\n",
    "    print(\"Invalid Operator\")\n",
    "print(a,op,b,\"=\",result)"
   ]
  },
  {
   "cell_type": "code",
   "execution_count": 11,
   "id": "739c01b0",
   "metadata": {},
   "outputs": [
    {
     "name": "stdout",
     "output_type": "stream",
     "text": [
      "23 50 100\n"
     ]
    }
   ],
   "source": [
    "# Read three numbers and print in ascending order\n",
    "a=int(input(\"Enter the first number : \"))\n",
    "b=int(input(\"Enter the second number : \"))\n",
    "c=int(input(\"Enter the third number : \"))\n",
    "min=mid=max=None\n",
    "if a>b and a>c:\n",
    "    if b>c:\n",
    "       min,mid,max=c,b,a\n",
    "    else:\n",
    "        min,mid,max=b,c,a\n",
    "elif b>a and b>c:\n",
    "    if a>c:\n",
    "        min,mid,max=c,a,b\n",
    "    else:\n",
    "        min,mid,max=a,c,b\n",
    "else:\n",
    "    if a>b:\n",
    "        min,mid,max=b,a,c\n",
    "    else:\n",
    "        min,mid,max=a,b,c\n",
    "print(min,mid,max)"
   ]
  },
  {
   "cell_type": "code",
   "execution_count": 15,
   "id": "62f560c4",
   "metadata": {},
   "outputs": [
    {
     "name": "stdout",
     "output_type": "stream",
     "text": [
      "Symbol\n"
     ]
    }
   ],
   "source": [
    "#Check if character is uppercase, lowercase, digit or symbol\n",
    "ch=input(\"Enter the character: \")\n",
    "if ch>='A' and ch<='Z':\n",
    "    print(\"Uppercase\")\n",
    "elif ch>='a' and ch<='z':\n",
    "    print(\"Lowercase\")\n",
    "elif ch>='0' and ch<='9':\n",
    "    print(\"Digit\")\n",
    "else:\n",
    "    print(\"Symbol\")"
   ]
  },
  {
   "cell_type": "code",
   "execution_count": 22,
   "id": "65f19cd6",
   "metadata": {},
   "outputs": [
    {
     "name": "stdout",
     "output_type": "stream",
     "text": [
      "Quadratic equation is of the form ax**2 + bx + c = 0 \n",
      "Roots are real and equal\n",
      "Roots are : -1.0 and -1.0\n"
     ]
    }
   ],
   "source": [
    "# Roots of a Quadratic Equation\n",
    "import cmath\n",
    "print(\"Quadratic equation is of the form ax**2 + bx + c = 0 \")\n",
    "a=int(input(\"Enter coefficient a: \"))\n",
    "b=int(input(\"Enter coefficient b: \"))\n",
    "c=int(input(\"Enter coefficient c:\"))\n",
    "r1=r2=None\n",
    "D=b*b-4*a*c\n",
    "r1=(-b+cmath.sqrt(D))/(2*a)\n",
    "r2=(-b-cmath.sqrt(D))/(2*a)\n",
    "if D>0:\n",
    "    print(\"Roots are real and unequal\")\n",
    "    r1=r1.real\n",
    "    r2=r2.real\n",
    "elif D==0:\n",
    "    print(\"Roots are real and equal\")\n",
    "    r1=r2=r1.real\n",
    "else:\n",
    "    print(\"Roots are imaginary\")\n",
    "print(\"Roots are :\",r1,\"and\",r2)"
   ]
  }
 ],
 "metadata": {
  "kernelspec": {
   "display_name": "Python 3",
   "language": "python",
   "name": "python3"
  },
  "language_info": {
   "codemirror_mode": {
    "name": "ipython",
    "version": 3
   },
   "file_extension": ".py",
   "mimetype": "text/x-python",
   "name": "python",
   "nbconvert_exporter": "python",
   "pygments_lexer": "ipython3",
   "version": "3.11.9"
  }
 },
 "nbformat": 4,
 "nbformat_minor": 5
}
