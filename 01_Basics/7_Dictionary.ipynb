{
 "cells": [
  {
   "cell_type": "code",
   "execution_count": null,
   "id": "84517e9d",
   "metadata": {},
   "outputs": [],
   "source": [
    "# WAP to count the frequency of a list of elements using a dictionary\n",
    "import json\n",
    "L=list(input(\"Enter the sentence: \").split())\n",
    "D=dict()\n",
    "for x in L:\n",
    "    if x in D:\n",
    "        D[x]+=1\n",
    "    else:\n",
    "        D[x]=1\n",
    "print(json.dumps(D,indent=4))"
   ]
  },
  {
   "cell_type": "code",
   "execution_count": null,
   "id": "bb566c54",
   "metadata": {},
   "outputs": [],
   "source": [
    "# WAP to create a dictionary with the roll number, name and marks of n students in a class and display the names of students who have marks above 75\n",
    "n=int(input(\"Enter the number of students: \"))\n",
    "student={}\n",
    "for i in range(0,n):\n",
    "    print(\"Enter details of Student\",(i+1),\":\")\n",
    "    roll=int(input(\"Enter the roll number: \"))\n",
    "    name=input(\"Enter the name: \")\n",
    "    marks=float(input(\"Enter the marks: \"))\n",
    "    key=\"Stud \"+str(i+1)\n",
    "    student[key]={\"roll_no\":roll,\"name\":name,\"marks\":marks}\n",
    "print(json.dumps(student,indent=4))\n",
    "for key in student:\n",
    "    if student[key][\"marks\"]>75:\n",
    "        print(student[key])"
   ]
  },
  {
   "cell_type": "code",
   "execution_count": null,
   "id": "597df876",
   "metadata": {},
   "outputs": [],
   "source": [
    "# WAP to read a sentence and create a dictionary that contains the frequency of letters, digits and symbols in the sentence.\n",
    "sentence=input(\"Enter the sentence : \")\n",
    "L=list(sentence.replace(\" \",\"\"))\n",
    "freq_dict=dict.fromkeys([\"letters\",\"digits\",\"symbols\"],0)\n",
    "for x in L:\n",
    "    if x.isdigit():\n",
    "        freq_dict[\"digits\"]+=1\n",
    "    elif x.isalpha():\n",
    "        freq_dict[\"letters\"]+=1\n",
    "    else:\n",
    "        freq_dict[\"symbols\"]+=1\n",
    "print(json.dumps(freq_dict,indent=4))"
   ]
  },
  {
   "cell_type": "code",
   "execution_count": null,
   "id": "ba435f51",
   "metadata": {},
   "outputs": [],
   "source": []
  },
  {
   "cell_type": "code",
   "execution_count": null,
   "id": "1b426741",
   "metadata": {},
   "outputs": [],
   "source": [
    "# Write a Python script-file to read the date of birth of N students (in the format dd-mm-yyyy) from the user and store them in a dictionary, where the keys are student names and the values are their dates of birth.\n",
    "# i) Sort the dictionary by date of birth (ascending order).\n",
    "# ii) Create three separate lists: one for days (dd), one for months (mm), and one for years (yyyy) extracted from dict values\n",
    "# iii) Print the sorted dictionary and all three lists\n",
    "import json\n",
    "n=int(input(\"Enter the number of students : \"))\n",
    "D={}\n",
    "for i in range(0,n):\n",
    "    name=input(\"Enter the name : \")\n",
    "    dob=input(\"Enter the date of birth in dd-mm-yyy format: \")\n",
    "    D[name]=dob\n",
    "sorted_D=dict(sorted(D.items(), key=lambda item: tuple(map(int, item[1].split('-')[::-1]))))\n",
    "years=[]\n",
    "months=[]\n",
    "days=[]\n",
    "for x in sorted_D:\n",
    "    years.append(sorted_D[x][-4:])\n",
    "    months.append(sorted_D[x][3:5])\n",
    "    days.append(sorted_D[x][:2])\n",
    "print(\"Sorted dictionary:\\n\",json.dumps(sorted_D,indent=4))\n",
    "print(\"Days:\",days)\n",
    "print(\"Months:\",months)\n",
    "print(\"Years\",years)"
   ]
  },
  {
   "cell_type": "code",
   "execution_count": null,
   "id": "d35a0b22",
   "metadata": {},
   "outputs": [],
   "source": [
    "# WAP to check if a dictionary is contained in another dictionary\n",
    "def checkContained(d1,d2):\n",
    "    for x in d1:\n",
    "        if x not in d2 or d1[x]!=d2[x]:\n",
    "            print(\"Not contained\")\n",
    "            break\n",
    "    else:\n",
    "        print(\"Contained\")\n",
    "\n",
    "d1={\"name\":\"Anjali\",\"age\":20,\"stream\":\"CSE\"}\n",
    "d2={\"name\":\"Anjali\",\"age\":20,\"stream\":\"CSE\",\"email\":\"anjali@hotmail.com\"}\n",
    "d3={\"name\":\"Anshika\",\"age\":18,\"stream\":\"Commerce\"}\n",
    "checkContained(d1,d2)\n",
    "checkContained(d2,d1)\n",
    "checkContained(d2,d3)\n",
    "checkContained(d1,d3)\n",
    "\n",
    "        "
   ]
  },
  {
   "cell_type": "code",
   "execution_count": null,
   "id": "850540aa",
   "metadata": {},
   "outputs": [],
   "source": [
    "# WAP to create a third dict form two dict having some common keys, in way so that the values of common keys are added in the third dictionary\n",
    "d1={\"pens\":100,\"eraser\":20,\"pencil\":200,\"ruler\":10}\n",
    "d2={\"pens\":130,\"eraser\":40,\"stapler\":15,\"sheet\":500,\"labFile\":50}\n",
    "d3={}\n",
    "for x in d1:\n",
    "    if x in d2:\n",
    "        d3[x]=d1[x]+d2[x]\n",
    "    else:\n",
    "        d3[x]=d1[x]\n",
    "for x in d2:\n",
    "    if x not in d1:\n",
    "        d3[x]=d2[x]\n",
    "print(d3)"
   ]
  },
  {
   "cell_type": "code",
   "execution_count": null,
   "id": "a4c39bd6",
   "metadata": {},
   "outputs": [],
   "source": [
    "#For the CR post, 3 candidates a,b and c are the nominees. From the given data which contains the student and the name of the candidate they voted for, find who won the election.\n",
    "votes={1:'a',2:'a',3:'c',4:'a',5:'c',6:'b',7:'b',8:'b',9:'a',10:'c',11:'a',12:'b',13:'b',14:'c',15:'b'}\n",
    "nov_a=nov_b=nov_c=0\n",
    "for x in votes:\n",
    "    if votes[x]=='a':\n",
    "        nov_a+=1\n",
    "    elif votes[x]=='b':\n",
    "        nov_b+=1\n",
    "    else:\n",
    "        nov_c+=1\n",
    "if max(nov_a,nov_b,nov_c)==nov_a:\n",
    "    print(\"Candidate 'a' won the elections\")\n",
    "elif max(nov_b,nov_c)==nov_b:\n",
    "    print(\"Candidate 'b' won the elections\")\n",
    "else:\n",
    "    print(\"Candidate 'c' won the elections\")\n"
   ]
  }
 ],
 "metadata": {
  "kernelspec": {
   "display_name": "Python 3",
   "language": "python",
   "name": "python3"
  },
  "language_info": {
   "codemirror_mode": {
    "name": "ipython",
    "version": 3
   },
   "file_extension": ".py",
   "mimetype": "text/x-python",
   "name": "python",
   "nbconvert_exporter": "python",
   "pygments_lexer": "ipython3",
   "version": "3.11.9"
  }
 },
 "nbformat": 4,
 "nbformat_minor": 5
}
