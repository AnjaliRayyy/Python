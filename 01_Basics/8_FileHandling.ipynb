{
 "cells": [
  {
   "cell_type": "code",
   "execution_count": null,
   "id": "7d883d6b",
   "metadata": {},
   "outputs": [
    {
     "name": "stdout",
     "output_type": "stream",
     "text": [
      "Size after removing EOL characters and blank lines : 590\n",
      "Total size of the file : 614\n"
     ]
    }
   ],
   "source": [
    "# Display the size of a file after removing EOL characters, leading and trailing white spaces and blank lines\n",
    "f=open(\"twinkle_twinkle_poem.txt\",'r')\n",
    "size=tsize=0\n",
    "for line in f:\n",
    "    tsize+=len(line)\n",
    "    size+=len(line.strip())\n",
    "print(\"Size after removing EOL characters and blank lines :\",size)\n",
    "print(\"Total size of the file :\",tsize)\n",
    "f.close()"
   ]
  },
  {
   "cell_type": "code",
   "execution_count": null,
   "id": "0ff4d182",
   "metadata": {},
   "outputs": [
    {
     "name": "stdout",
     "output_type": "stream",
     "text": [
      "No of lines in the files : 24\n"
     ]
    }
   ],
   "source": [
    "# Display the number of lines in a file\n",
    "f2=open(\"twinkle_twinkle_poem.txt\",'r')\n",
    "print(\"No of lines in the files :\",len(f2.readlines()))\n",
    "f2.close()"
   ]
  },
  {
   "cell_type": "code",
   "execution_count": 10,
   "id": "3ae54ec4",
   "metadata": {},
   "outputs": [
    {
     "name": "stdout",
     "output_type": "stream",
     "text": [
      "No. of vowels= 166\n",
      "No. of consonants= 449\n"
     ]
    }
   ],
   "source": [
    "# WAP to read a text file and display the count of vowels and consonants in the file.\n",
    "f3=open(\"twinkle_twinkle_poem.txt\",'r')\n",
    "vow=conso=0\n",
    "ch=' '\n",
    "while ch:\n",
    "    ch=f3.read(1)\n",
    "    if ch in \"aeiouAEIOU\":\n",
    "        vow+=1\n",
    "    elif ch.isalpha:\n",
    "        conso+=1\n",
    "print(\"No. of vowels=\",vow)\n",
    "print(\"No. of consonants=\",conso)"
   ]
  },
  {
   "cell_type": "code",
   "execution_count": 13,
   "id": "c25ddfd0",
   "metadata": {},
   "outputs": [],
   "source": [
    "# WAP to get roll_numbers, names and marks of the students of a class and store these details in a file called \"Marks.txt\"\n",
    "f4=open(\"Marks.txt\",'w')\n",
    "n=int(input(\"Enter the number of students in the class : \"))\n",
    "f4.write(\"Roll no.\\tName\\tMarks\\n\")\n",
    "for x in range(0,n):\n",
    "    roll=int(input(\"Enter the roll number : \"))\n",
    "    name=input(\"Enter name : \")\n",
    "    marks=float(input(\"Enter the marks : \"))\n",
    "    f4.write(f\"{roll}\\t\\t{name}\\t\\t{marks}\\n\")\n",
    "f4.flush()\n",
    "f4.close()\n"
   ]
  },
  {
   "cell_type": "code",
   "execution_count": null,
   "id": "74b92f40",
   "metadata": {},
   "outputs": [
    {
     "name": "stdout",
     "output_type": "stream",
     "text": [
      "No. of employees = 10\n",
      "['65000', '55000', '72000', '80000', '75000', '60000', '74000', '60000', '54000', '45000']\n",
      "Names:  ['Rohan Sharma', 'Priya Singh', 'Aarav Mehta', 'Anjali Verma', 'Neha Kaushik', 'Ritwika Sharma', 'Priyanka Biswas', 'Rajesh Kumar', 'Aneeka Dey', 'Rinku Singh']\n"
     ]
    }
   ],
   "source": [
    "# You have been provided with a file named \"Employee_Records.txt\". Perform the following operations:\n",
    "# 1. Count total employees.\n",
    "# 2. Find the highest salary.\n",
    "# 3. Extract all names and store them in a list.\n",
    "# 4. Write a function to add a new employee record.\n",
    "# 5. Create a summary report of departments and average salaries.\n",
    "f5=open(\"Employee_Records.txt\",'r+')\n",
    "no_of_emp=sum(1 for line in f5 if line.strip().startswith(\"ID:\"))   #Counting total no. of employees\n",
    "print(\"No. of employees =\",no_of_emp)\n",
    "f5.seek(0)\n",
    "#Finding the highest salary\n",
    "salaries=[]\n",
    "for line in f5:\n",
    "    if line.strip().startswith(\"Salary:\"):\n",
    "        salaries.append(line.split(':')[1].strip())\n",
    "# highest_salary=max(salaries)\n",
    "# print(\"Highest Salary: \",highest_salary)\n",
    "print(salaries)\n",
    "f5.seek(0)\n",
    "#Extracting and storing names in a list\n",
    "names=[]\n",
    "for line in f5:\n",
    "    if line.strip().startswith(\"Name:\"):\n",
    "        names.append(line.split(\":\")[1].strip())\n",
    "print(\"Names: \",names)\n",
    "#Adding a new employee\n",
    "id=input(\"Enter ID: \")\n",
    "name=input(\"Enter name: \")\n",
    "dept=input(\"Enter department: \")\n",
    "salary=input(\"Enter salary: \")\n",
    "f5.write(f\"\\n\\nID: {id}\\nName: {name}\\nDepartment: {dept}\\nSalary: {salary}\")\n",
    "#Creating a summary\n",
    "f5.seek(0)\n",
    "summary={}\n",
    "s_dept=''\n",
    "s_salary=0\n",
    "for line in f5:\n",
    "    if line.strip().startswith(\"Department:\"):\n",
    "        s_dept=line.split(':')[1].strip()\n",
    "    elif line.strip().startswith(\"Salary:\"):\n",
    "        s_salary=float(line.split(\":\")[1].strip())\n",
    "        summary.setdefault(s_dept,[]).append(s_salary)\n",
    "f6=open(\"SummaryReport.txt\",'w')\n",
    "for key in summary:\n",
    "    f6.write(f\"\\n\\nDepartment: {key}\\tAverage : {sum(summary[key])/len(summary[key])}\")\n",
    "f6.close()\n",
    "f5.close()"
   ]
  }
 ],
 "metadata": {
  "kernelspec": {
   "display_name": "Python 3",
   "language": "python",
   "name": "python3"
  },
  "language_info": {
   "codemirror_mode": {
    "name": "ipython",
    "version": 3
   },
   "file_extension": ".py",
   "mimetype": "text/x-python",
   "name": "python",
   "nbconvert_exporter": "python",
   "pygments_lexer": "ipython3",
   "version": "3.11.9"
  }
 },
 "nbformat": 4,
 "nbformat_minor": 5
}
